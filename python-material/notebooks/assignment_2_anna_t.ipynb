{
 "cells": [
  {
   "cell_type": "markdown",
   "id": "f93d7110-000c-4b71-9397-ba2dbb785659",
   "metadata": {},
   "source": [
    "# Assignment 2\n",
    "In this assignment, I've created a logistic regression model that should predict the loan status based on selected features.\n",
    "\n",
    "The assignment is split into key parts that contain:\n",
    "- selecting variables for further analysis\n",
    "- preparing data\n",
    "- performing feature engineering, cross-validation, and model evaluation\n",
    "- dealing with class imbalance\n",
    "- discovering the insights\n",
    "\n",
    "In the second part of the assignment, the logistic regression model was optimized by training by fine-tuning thresholds.\n",
    "\n",
    "In the third part, the linear regression model was built based on pre-defined features."
   ]
  },
  {
   "cell_type": "markdown",
   "id": "10b09436-a70c-4c10-b585-14737d72c118",
   "metadata": {},
   "source": [
    "## Part 1. Creating a logistic regression model"
   ]
  },
  {
   "cell_type": "markdown",
   "id": "d4af2ca0-b927-42b6-82e0-1ade855fc2f5",
   "metadata": {},
   "source": [
    "### 1. Import libraries, load data\n",
    "All imports are gathered in one place to make sure that they're not duplicated and can be reviewed complexly.\n",
    "The 'df_out_dsif3.csv' file is selected as the data source for the current assignment."
   ]
  },
  {
   "cell_type": "code",
   "execution_count": 25,
   "id": "eb19af84-7398-413e-a4c8-ef3b4e957789",
   "metadata": {},
   "outputs": [],
   "source": [
    "python_material_folder_name = \"python-material\"\n",
    "\n",
    "# Data manipulation\n",
    "import pandas as pd\n",
    "import numpy as np\n",
    "\n",
    "# Visualization\n",
    "import matplotlib.pyplot as plt\n",
    "import seaborn as sns\n",
    "\n",
    "# Preprocessing\n",
    "from sklearn.preprocessing import LabelEncoder\n",
    "\n",
    "# Training\n",
    "from sklearn.model_selection import train_test_split, cross_val_score\n",
    "\n",
    "# Modelling\n",
    "from sklearn.linear_model import LogisticRegression, LinearRegression\n",
    "\n",
    "# Dealing with class imbalance\n",
    "from imblearn.over_sampling import SMOTE\n",
    "\n",
    "# Model evaluation\n",
    "from sklearn.metrics import accuracy_score, precision_score, recall_score, f1_score, roc_auc_score, confusion_matrix, roc_curve, auc, roc_auc_score, mean_squared_error, r2_score\n",
    "\n",
    "path_python_material = \"..\"\n",
    "\n",
    "# Data loading\n",
    "df = pd.read_csv(f\"{path_python_material}/data/2-intermediate/df_out_dsif3.csv\")"
   ]
  },
  {
   "cell_type": "markdown",
   "id": "25162a02-787b-4246-88dc-7c8e2cb29e4f",
   "metadata": {
    "jp-MarkdownHeadingCollapsed": true
   },
   "source": [
    "### 2. Selecting variables for analysis\n",
    "To predict loan status the next fields were chosen:\n",
    "- fico_range_low - the lower boundary range the borrower’s FICO at loan origination belongs to\n",
    "- fico_range_high - the upper boundary range the borrower’s FICO at loan origination belongs to\n",
    "- last_fico_range_high - the upper boundary range the borrower’s last FICO pulled belongs to\n",
    "- last_fico_range_low - the lower boundary range the borrower’s last FICO pulled belongs to\n",
    "- annual_inc - the self-reported annual income provided by the borrower during registration\n",
    "- sub_grade - LC assigned loan subgrade\n",
    "- verification_status - indicates if income was verified by LC, not verified, or if the income source was verified\n",
    "- dti - a ratio calculated using the borrower’s total monthly debt payments on the total debt obligations, excluding mortgage and the requested LC loan, divided by the borrower’s self-reported monthly income\n",
    "\n",
    "For better understanding 'dti' values I've added the example of how it can be calculated.\n",
    "\n",
    "#### Very High DTI\n",
    "- **Monthly Debt Payments (excluding mortgage and the new loan):** 4,500\n",
    "- **Monthly Income (self-reported):** 5,000\n",
    "- **DTI Calculation:** 4,500 / 5,000 = 0.90 or 90%\n",
    "\n",
    "Description: A DTI of 90% is extremely high, indicating that nearly all of the borrower's income goes towards paying off their existing debts. This is a red flag for lenders, as it suggests the borrower has little room to manage new debt or unexpected expenses.\n",
    "\n",
    "**'sub_grade' description:** sub_grade value helps lenders assess the specific risk level within each grade. It can affect the loan’s interest rate, as borrowers with a higher subgrade (e.g., A1) are typically considered lower risk and may receive more favorable loan terms compared to those with a lower subgrade (e.g., A5).\n",
    "\n",
    "In summary, the sub_grade provides a finer classification of the borrower's credit risk, helping lenders set more accurate loan pricing and risk strategies."
   ]
  },
  {
   "cell_type": "markdown",
   "id": "01a21437-096c-4d1b-ad52-73f5f7389de8",
   "metadata": {},
   "source": [
    "### 3. Feature engineering\n",
    "Based on selected variables it was built next features:\n",
    "-  loan_default\n",
    "-  fico_average\n",
    "-  last_fico_average\n",
    "-  fico_category\n",
    "-  last_fico_category\n",
    "\n",
    "fico_category, last_fico_category, sub_grade, verification_status were encoded into numeric values to be able to perform model analysis"
   ]
  },
  {
   "cell_type": "markdown",
   "id": "c1a65852-5f62-448a-bf31-36a8f78f616f",
   "metadata": {},
   "source": [
    "#### Helper functions"
   ]
  },
  {
   "cell_type": "code",
   "execution_count": 26,
   "id": "efd2c01a-0632-4bdd-929f-3b5b172df6fe",
   "metadata": {},
   "outputs": [],
   "source": [
    "def categorize_fico(fico_avg):\n",
    "    if fico_avg >= 800:\n",
    "        return 'Excellent Credit'\n",
    "    elif fico_avg >= 740:\n",
    "        return 'Very Good Credit'\n",
    "    elif fico_avg >= 670:\n",
    "        return 'Good Credit'\n",
    "    elif fico_avg >= 580:\n",
    "        return 'Fair Credit'\n",
    "    else:\n",
    "        return 'Poor Credit'\n",
    "\n",
    "def model_evaluation(model, predictions, y_test, X_test):\n",
    "    accuracy = accuracy_score(y_test, predictions)\n",
    "    precision = precision_score(y_test, predictions)\n",
    "    recall = recall_score(y_test, predictions)\n",
    "    f1 = f1_score(y_test, predictions)\n",
    "    roc_auc = roc_auc_score(y_test, model.predict_proba(X_test)[:,1])\n",
    "    \n",
    "    # Display the confusion matrix\n",
    "    cm = confusion_matrix(y_test, predictions)\n",
    "    \n",
    "    print(f'Accuracy: {accuracy}')\n",
    "    print(f'Precision: {precision}')\n",
    "    print(f'Recall: {recall}')\n",
    "    print(f'F1-Score: {f1}')\n",
    "    print(f'ROC-AUC: {roc_auc}')\n",
    "    print(f'Confusion Matrix:\\n{cm}')"
   ]
  },
  {
   "cell_type": "markdown",
   "id": "b0015dd0-9a1a-4519-b6e5-732bfbabf94b",
   "metadata": {},
   "source": [
    "#### Creating new features"
   ]
  },
  {
   "cell_type": "code",
   "execution_count": 27,
   "id": "84cfd14e-5f7b-4baf-bc5a-a1755b0d39ad",
   "metadata": {},
   "outputs": [],
   "source": [
    "df['loan_default'] = df.loan_status == \"Charged Off\"\n",
    "\n",
    "df['fico_average'] = (df['fico_range_low'] + df['fico_range_high']) / 2\n",
    "df['last_fico_average'] = (df['last_fico_range_low'] + df['last_fico_range_high']) / 2\n",
    "\n",
    "\n",
    "df['fico_category'] = df['fico_average'].apply(categorize_fico)\n",
    "df['last_fico_category'] = df['last_fico_average'].apply(categorize_fico)\n",
    "\n",
    "# As the logistic regression model can work with numeric values only, category values are encoded\n",
    "le = LabelEncoder()\n",
    "df.loc[:, 'fico_category_encoded'] = le.fit_transform(df['fico_category'])\n",
    "df.loc[:, 'last_fico_category_encoded'] = le.fit_transform(df['last_fico_category'])\n",
    "df.loc[:, 'sub_grade_encoded'] = le.fit_transform(df['sub_grade'])\n",
    "df.loc[:, 'verification_status_encoded'] = le.fit_transform(df['verification_status'])\n",
    "\n",
    "# It was identified that some parts of rows (193 from 100000) don't have 'dti' value, so they should be cleaned-up\n",
    "df_cleaned = df[df['dti'].notna()]"
   ]
  },
  {
   "cell_type": "markdown",
   "id": "e008f5d8-3ed5-4860-8789-2326a40b45fd",
   "metadata": {},
   "source": [
    "### 3. Selecting features for the model"
   ]
  },
  {
   "cell_type": "code",
   "execution_count": 28,
   "id": "87b3b4f0-fd2b-4d15-8f36-7ea7f1a5a5ba",
   "metadata": {},
   "outputs": [],
   "source": [
    "features = ['fico_category_encoded', 'annual_inc', 'dti', 'funded_amnt', 'sub_grade_encoded']\n",
    "X = df_cleaned[features]\n",
    "y = df_cleaned['loan_default']"
   ]
  },
  {
   "cell_type": "code",
   "execution_count": 29,
   "id": "422c7bc6-15c2-4bf0-b4ef-e4cf7de9bf84",
   "metadata": {},
   "outputs": [],
   "source": [
    "# Split the data into training and testing sets (returns pandas dfs)\n",
    "X_train, X_test, y_train, y_test = train_test_split(X, y, test_size=0.2, random_state=60)"
   ]
  },
  {
   "cell_type": "code",
   "execution_count": 30,
   "id": "8f111097-0c5c-4556-95bb-684e0fc903d6",
   "metadata": {},
   "outputs": [
    {
     "name": "stdout",
     "output_type": "stream",
     "text": [
      "Shape: (79918, 5)\n",
      "Shape: (19980, 5)\n",
      "Shape: (79918,)\n",
      "Shape: (19980,)\n"
     ]
    }
   ],
   "source": [
    "for dframe in [X_train, X_test, y_train, y_test]:\n",
    "    print(f\"Shape: {dframe.shape}\")"
   ]
  },
  {
   "cell_type": "markdown",
   "id": "5f421c3b-e827-453d-8571-dd925b32d277",
   "metadata": {},
   "source": [
    "### 4. Building and training the model"
   ]
  },
  {
   "cell_type": "code",
   "execution_count": 31,
   "id": "52fa52e5-69ac-4e97-b8b3-fdf081d412fa",
   "metadata": {},
   "outputs": [],
   "source": [
    "# max_iter parameter was added as the total number of iterations (100 by default) reached the limit\n",
    "model = LogisticRegression(max_iter=300)"
   ]
  },
  {
   "cell_type": "code",
   "execution_count": 32,
   "id": "6b254908-70e0-46ca-90e0-8357a9fcf037",
   "metadata": {},
   "outputs": [
    {
     "data": {
      "text/html": [
       "<style>#sk-container-id-2 {\n",
       "  /* Definition of color scheme common for light and dark mode */\n",
       "  --sklearn-color-text: black;\n",
       "  --sklearn-color-line: gray;\n",
       "  /* Definition of color scheme for unfitted estimators */\n",
       "  --sklearn-color-unfitted-level-0: #fff5e6;\n",
       "  --sklearn-color-unfitted-level-1: #f6e4d2;\n",
       "  --sklearn-color-unfitted-level-2: #ffe0b3;\n",
       "  --sklearn-color-unfitted-level-3: chocolate;\n",
       "  /* Definition of color scheme for fitted estimators */\n",
       "  --sklearn-color-fitted-level-0: #f0f8ff;\n",
       "  --sklearn-color-fitted-level-1: #d4ebff;\n",
       "  --sklearn-color-fitted-level-2: #b3dbfd;\n",
       "  --sklearn-color-fitted-level-3: cornflowerblue;\n",
       "\n",
       "  /* Specific color for light theme */\n",
       "  --sklearn-color-text-on-default-background: var(--sg-text-color, var(--theme-code-foreground, var(--jp-content-font-color1, black)));\n",
       "  --sklearn-color-background: var(--sg-background-color, var(--theme-background, var(--jp-layout-color0, white)));\n",
       "  --sklearn-color-border-box: var(--sg-text-color, var(--theme-code-foreground, var(--jp-content-font-color1, black)));\n",
       "  --sklearn-color-icon: #696969;\n",
       "\n",
       "  @media (prefers-color-scheme: dark) {\n",
       "    /* Redefinition of color scheme for dark theme */\n",
       "    --sklearn-color-text-on-default-background: var(--sg-text-color, var(--theme-code-foreground, var(--jp-content-font-color1, white)));\n",
       "    --sklearn-color-background: var(--sg-background-color, var(--theme-background, var(--jp-layout-color0, #111)));\n",
       "    --sklearn-color-border-box: var(--sg-text-color, var(--theme-code-foreground, var(--jp-content-font-color1, white)));\n",
       "    --sklearn-color-icon: #878787;\n",
       "  }\n",
       "}\n",
       "\n",
       "#sk-container-id-2 {\n",
       "  color: var(--sklearn-color-text);\n",
       "}\n",
       "\n",
       "#sk-container-id-2 pre {\n",
       "  padding: 0;\n",
       "}\n",
       "\n",
       "#sk-container-id-2 input.sk-hidden--visually {\n",
       "  border: 0;\n",
       "  clip: rect(1px 1px 1px 1px);\n",
       "  clip: rect(1px, 1px, 1px, 1px);\n",
       "  height: 1px;\n",
       "  margin: -1px;\n",
       "  overflow: hidden;\n",
       "  padding: 0;\n",
       "  position: absolute;\n",
       "  width: 1px;\n",
       "}\n",
       "\n",
       "#sk-container-id-2 div.sk-dashed-wrapped {\n",
       "  border: 1px dashed var(--sklearn-color-line);\n",
       "  margin: 0 0.4em 0.5em 0.4em;\n",
       "  box-sizing: border-box;\n",
       "  padding-bottom: 0.4em;\n",
       "  background-color: var(--sklearn-color-background);\n",
       "}\n",
       "\n",
       "#sk-container-id-2 div.sk-container {\n",
       "  /* jupyter's `normalize.less` sets `[hidden] { display: none; }`\n",
       "     but bootstrap.min.css set `[hidden] { display: none !important; }`\n",
       "     so we also need the `!important` here to be able to override the\n",
       "     default hidden behavior on the sphinx rendered scikit-learn.org.\n",
       "     See: https://github.com/scikit-learn/scikit-learn/issues/21755 */\n",
       "  display: inline-block !important;\n",
       "  position: relative;\n",
       "}\n",
       "\n",
       "#sk-container-id-2 div.sk-text-repr-fallback {\n",
       "  display: none;\n",
       "}\n",
       "\n",
       "div.sk-parallel-item,\n",
       "div.sk-serial,\n",
       "div.sk-item {\n",
       "  /* draw centered vertical line to link estimators */\n",
       "  background-image: linear-gradient(var(--sklearn-color-text-on-default-background), var(--sklearn-color-text-on-default-background));\n",
       "  background-size: 2px 100%;\n",
       "  background-repeat: no-repeat;\n",
       "  background-position: center center;\n",
       "}\n",
       "\n",
       "/* Parallel-specific style estimator block */\n",
       "\n",
       "#sk-container-id-2 div.sk-parallel-item::after {\n",
       "  content: \"\";\n",
       "  width: 100%;\n",
       "  border-bottom: 2px solid var(--sklearn-color-text-on-default-background);\n",
       "  flex-grow: 1;\n",
       "}\n",
       "\n",
       "#sk-container-id-2 div.sk-parallel {\n",
       "  display: flex;\n",
       "  align-items: stretch;\n",
       "  justify-content: center;\n",
       "  background-color: var(--sklearn-color-background);\n",
       "  position: relative;\n",
       "}\n",
       "\n",
       "#sk-container-id-2 div.sk-parallel-item {\n",
       "  display: flex;\n",
       "  flex-direction: column;\n",
       "}\n",
       "\n",
       "#sk-container-id-2 div.sk-parallel-item:first-child::after {\n",
       "  align-self: flex-end;\n",
       "  width: 50%;\n",
       "}\n",
       "\n",
       "#sk-container-id-2 div.sk-parallel-item:last-child::after {\n",
       "  align-self: flex-start;\n",
       "  width: 50%;\n",
       "}\n",
       "\n",
       "#sk-container-id-2 div.sk-parallel-item:only-child::after {\n",
       "  width: 0;\n",
       "}\n",
       "\n",
       "/* Serial-specific style estimator block */\n",
       "\n",
       "#sk-container-id-2 div.sk-serial {\n",
       "  display: flex;\n",
       "  flex-direction: column;\n",
       "  align-items: center;\n",
       "  background-color: var(--sklearn-color-background);\n",
       "  padding-right: 1em;\n",
       "  padding-left: 1em;\n",
       "}\n",
       "\n",
       "\n",
       "/* Toggleable style: style used for estimator/Pipeline/ColumnTransformer box that is\n",
       "clickable and can be expanded/collapsed.\n",
       "- Pipeline and ColumnTransformer use this feature and define the default style\n",
       "- Estimators will overwrite some part of the style using the `sk-estimator` class\n",
       "*/\n",
       "\n",
       "/* Pipeline and ColumnTransformer style (default) */\n",
       "\n",
       "#sk-container-id-2 div.sk-toggleable {\n",
       "  /* Default theme specific background. It is overwritten whether we have a\n",
       "  specific estimator or a Pipeline/ColumnTransformer */\n",
       "  background-color: var(--sklearn-color-background);\n",
       "}\n",
       "\n",
       "/* Toggleable label */\n",
       "#sk-container-id-2 label.sk-toggleable__label {\n",
       "  cursor: pointer;\n",
       "  display: block;\n",
       "  width: 100%;\n",
       "  margin-bottom: 0;\n",
       "  padding: 0.5em;\n",
       "  box-sizing: border-box;\n",
       "  text-align: center;\n",
       "}\n",
       "\n",
       "#sk-container-id-2 label.sk-toggleable__label-arrow:before {\n",
       "  /* Arrow on the left of the label */\n",
       "  content: \"▸\";\n",
       "  float: left;\n",
       "  margin-right: 0.25em;\n",
       "  color: var(--sklearn-color-icon);\n",
       "}\n",
       "\n",
       "#sk-container-id-2 label.sk-toggleable__label-arrow:hover:before {\n",
       "  color: var(--sklearn-color-text);\n",
       "}\n",
       "\n",
       "/* Toggleable content - dropdown */\n",
       "\n",
       "#sk-container-id-2 div.sk-toggleable__content {\n",
       "  max-height: 0;\n",
       "  max-width: 0;\n",
       "  overflow: hidden;\n",
       "  text-align: left;\n",
       "  /* unfitted */\n",
       "  background-color: var(--sklearn-color-unfitted-level-0);\n",
       "}\n",
       "\n",
       "#sk-container-id-2 div.sk-toggleable__content.fitted {\n",
       "  /* fitted */\n",
       "  background-color: var(--sklearn-color-fitted-level-0);\n",
       "}\n",
       "\n",
       "#sk-container-id-2 div.sk-toggleable__content pre {\n",
       "  margin: 0.2em;\n",
       "  border-radius: 0.25em;\n",
       "  color: var(--sklearn-color-text);\n",
       "  /* unfitted */\n",
       "  background-color: var(--sklearn-color-unfitted-level-0);\n",
       "}\n",
       "\n",
       "#sk-container-id-2 div.sk-toggleable__content.fitted pre {\n",
       "  /* unfitted */\n",
       "  background-color: var(--sklearn-color-fitted-level-0);\n",
       "}\n",
       "\n",
       "#sk-container-id-2 input.sk-toggleable__control:checked~div.sk-toggleable__content {\n",
       "  /* Expand drop-down */\n",
       "  max-height: 200px;\n",
       "  max-width: 100%;\n",
       "  overflow: auto;\n",
       "}\n",
       "\n",
       "#sk-container-id-2 input.sk-toggleable__control:checked~label.sk-toggleable__label-arrow:before {\n",
       "  content: \"▾\";\n",
       "}\n",
       "\n",
       "/* Pipeline/ColumnTransformer-specific style */\n",
       "\n",
       "#sk-container-id-2 div.sk-label input.sk-toggleable__control:checked~label.sk-toggleable__label {\n",
       "  color: var(--sklearn-color-text);\n",
       "  background-color: var(--sklearn-color-unfitted-level-2);\n",
       "}\n",
       "\n",
       "#sk-container-id-2 div.sk-label.fitted input.sk-toggleable__control:checked~label.sk-toggleable__label {\n",
       "  background-color: var(--sklearn-color-fitted-level-2);\n",
       "}\n",
       "\n",
       "/* Estimator-specific style */\n",
       "\n",
       "/* Colorize estimator box */\n",
       "#sk-container-id-2 div.sk-estimator input.sk-toggleable__control:checked~label.sk-toggleable__label {\n",
       "  /* unfitted */\n",
       "  background-color: var(--sklearn-color-unfitted-level-2);\n",
       "}\n",
       "\n",
       "#sk-container-id-2 div.sk-estimator.fitted input.sk-toggleable__control:checked~label.sk-toggleable__label {\n",
       "  /* fitted */\n",
       "  background-color: var(--sklearn-color-fitted-level-2);\n",
       "}\n",
       "\n",
       "#sk-container-id-2 div.sk-label label.sk-toggleable__label,\n",
       "#sk-container-id-2 div.sk-label label {\n",
       "  /* The background is the default theme color */\n",
       "  color: var(--sklearn-color-text-on-default-background);\n",
       "}\n",
       "\n",
       "/* On hover, darken the color of the background */\n",
       "#sk-container-id-2 div.sk-label:hover label.sk-toggleable__label {\n",
       "  color: var(--sklearn-color-text);\n",
       "  background-color: var(--sklearn-color-unfitted-level-2);\n",
       "}\n",
       "\n",
       "/* Label box, darken color on hover, fitted */\n",
       "#sk-container-id-2 div.sk-label.fitted:hover label.sk-toggleable__label.fitted {\n",
       "  color: var(--sklearn-color-text);\n",
       "  background-color: var(--sklearn-color-fitted-level-2);\n",
       "}\n",
       "\n",
       "/* Estimator label */\n",
       "\n",
       "#sk-container-id-2 div.sk-label label {\n",
       "  font-family: monospace;\n",
       "  font-weight: bold;\n",
       "  display: inline-block;\n",
       "  line-height: 1.2em;\n",
       "}\n",
       "\n",
       "#sk-container-id-2 div.sk-label-container {\n",
       "  text-align: center;\n",
       "}\n",
       "\n",
       "/* Estimator-specific */\n",
       "#sk-container-id-2 div.sk-estimator {\n",
       "  font-family: monospace;\n",
       "  border: 1px dotted var(--sklearn-color-border-box);\n",
       "  border-radius: 0.25em;\n",
       "  box-sizing: border-box;\n",
       "  margin-bottom: 0.5em;\n",
       "  /* unfitted */\n",
       "  background-color: var(--sklearn-color-unfitted-level-0);\n",
       "}\n",
       "\n",
       "#sk-container-id-2 div.sk-estimator.fitted {\n",
       "  /* fitted */\n",
       "  background-color: var(--sklearn-color-fitted-level-0);\n",
       "}\n",
       "\n",
       "/* on hover */\n",
       "#sk-container-id-2 div.sk-estimator:hover {\n",
       "  /* unfitted */\n",
       "  background-color: var(--sklearn-color-unfitted-level-2);\n",
       "}\n",
       "\n",
       "#sk-container-id-2 div.sk-estimator.fitted:hover {\n",
       "  /* fitted */\n",
       "  background-color: var(--sklearn-color-fitted-level-2);\n",
       "}\n",
       "\n",
       "/* Specification for estimator info (e.g. \"i\" and \"?\") */\n",
       "\n",
       "/* Common style for \"i\" and \"?\" */\n",
       "\n",
       ".sk-estimator-doc-link,\n",
       "a:link.sk-estimator-doc-link,\n",
       "a:visited.sk-estimator-doc-link {\n",
       "  float: right;\n",
       "  font-size: smaller;\n",
       "  line-height: 1em;\n",
       "  font-family: monospace;\n",
       "  background-color: var(--sklearn-color-background);\n",
       "  border-radius: 1em;\n",
       "  height: 1em;\n",
       "  width: 1em;\n",
       "  text-decoration: none !important;\n",
       "  margin-left: 1ex;\n",
       "  /* unfitted */\n",
       "  border: var(--sklearn-color-unfitted-level-1) 1pt solid;\n",
       "  color: var(--sklearn-color-unfitted-level-1);\n",
       "}\n",
       "\n",
       ".sk-estimator-doc-link.fitted,\n",
       "a:link.sk-estimator-doc-link.fitted,\n",
       "a:visited.sk-estimator-doc-link.fitted {\n",
       "  /* fitted */\n",
       "  border: var(--sklearn-color-fitted-level-1) 1pt solid;\n",
       "  color: var(--sklearn-color-fitted-level-1);\n",
       "}\n",
       "\n",
       "/* On hover */\n",
       "div.sk-estimator:hover .sk-estimator-doc-link:hover,\n",
       ".sk-estimator-doc-link:hover,\n",
       "div.sk-label-container:hover .sk-estimator-doc-link:hover,\n",
       ".sk-estimator-doc-link:hover {\n",
       "  /* unfitted */\n",
       "  background-color: var(--sklearn-color-unfitted-level-3);\n",
       "  color: var(--sklearn-color-background);\n",
       "  text-decoration: none;\n",
       "}\n",
       "\n",
       "div.sk-estimator.fitted:hover .sk-estimator-doc-link.fitted:hover,\n",
       ".sk-estimator-doc-link.fitted:hover,\n",
       "div.sk-label-container:hover .sk-estimator-doc-link.fitted:hover,\n",
       ".sk-estimator-doc-link.fitted:hover {\n",
       "  /* fitted */\n",
       "  background-color: var(--sklearn-color-fitted-level-3);\n",
       "  color: var(--sklearn-color-background);\n",
       "  text-decoration: none;\n",
       "}\n",
       "\n",
       "/* Span, style for the box shown on hovering the info icon */\n",
       ".sk-estimator-doc-link span {\n",
       "  display: none;\n",
       "  z-index: 9999;\n",
       "  position: relative;\n",
       "  font-weight: normal;\n",
       "  right: .2ex;\n",
       "  padding: .5ex;\n",
       "  margin: .5ex;\n",
       "  width: min-content;\n",
       "  min-width: 20ex;\n",
       "  max-width: 50ex;\n",
       "  color: var(--sklearn-color-text);\n",
       "  box-shadow: 2pt 2pt 4pt #999;\n",
       "  /* unfitted */\n",
       "  background: var(--sklearn-color-unfitted-level-0);\n",
       "  border: .5pt solid var(--sklearn-color-unfitted-level-3);\n",
       "}\n",
       "\n",
       ".sk-estimator-doc-link.fitted span {\n",
       "  /* fitted */\n",
       "  background: var(--sklearn-color-fitted-level-0);\n",
       "  border: var(--sklearn-color-fitted-level-3);\n",
       "}\n",
       "\n",
       ".sk-estimator-doc-link:hover span {\n",
       "  display: block;\n",
       "}\n",
       "\n",
       "/* \"?\"-specific style due to the `<a>` HTML tag */\n",
       "\n",
       "#sk-container-id-2 a.estimator_doc_link {\n",
       "  float: right;\n",
       "  font-size: 1rem;\n",
       "  line-height: 1em;\n",
       "  font-family: monospace;\n",
       "  background-color: var(--sklearn-color-background);\n",
       "  border-radius: 1rem;\n",
       "  height: 1rem;\n",
       "  width: 1rem;\n",
       "  text-decoration: none;\n",
       "  /* unfitted */\n",
       "  color: var(--sklearn-color-unfitted-level-1);\n",
       "  border: var(--sklearn-color-unfitted-level-1) 1pt solid;\n",
       "}\n",
       "\n",
       "#sk-container-id-2 a.estimator_doc_link.fitted {\n",
       "  /* fitted */\n",
       "  border: var(--sklearn-color-fitted-level-1) 1pt solid;\n",
       "  color: var(--sklearn-color-fitted-level-1);\n",
       "}\n",
       "\n",
       "/* On hover */\n",
       "#sk-container-id-2 a.estimator_doc_link:hover {\n",
       "  /* unfitted */\n",
       "  background-color: var(--sklearn-color-unfitted-level-3);\n",
       "  color: var(--sklearn-color-background);\n",
       "  text-decoration: none;\n",
       "}\n",
       "\n",
       "#sk-container-id-2 a.estimator_doc_link.fitted:hover {\n",
       "  /* fitted */\n",
       "  background-color: var(--sklearn-color-fitted-level-3);\n",
       "}\n",
       "</style><div id=\"sk-container-id-2\" class=\"sk-top-container\"><div class=\"sk-text-repr-fallback\"><pre>LogisticRegression(max_iter=300)</pre><b>In a Jupyter environment, please rerun this cell to show the HTML representation or trust the notebook. <br />On GitHub, the HTML representation is unable to render, please try loading this page with nbviewer.org.</b></div><div class=\"sk-container\" hidden><div class=\"sk-item\"><div class=\"sk-estimator fitted sk-toggleable\"><input class=\"sk-toggleable__control sk-hidden--visually\" id=\"sk-estimator-id-2\" type=\"checkbox\" checked><label for=\"sk-estimator-id-2\" class=\"sk-toggleable__label fitted sk-toggleable__label-arrow fitted\">&nbsp;&nbsp;LogisticRegression<a class=\"sk-estimator-doc-link fitted\" rel=\"noreferrer\" target=\"_blank\" href=\"https://scikit-learn.org/1.5/modules/generated/sklearn.linear_model.LogisticRegression.html\">?<span>Documentation for LogisticRegression</span></a><span class=\"sk-estimator-doc-link fitted\">i<span>Fitted</span></span></label><div class=\"sk-toggleable__content fitted\"><pre>LogisticRegression(max_iter=300)</pre></div> </div></div></div></div>"
      ],
      "text/plain": [
       "LogisticRegression(max_iter=300)"
      ]
     },
     "execution_count": 32,
     "metadata": {},
     "output_type": "execute_result"
    }
   ],
   "source": [
    "model.fit(X_train, y_train)"
   ]
  },
  {
   "cell_type": "code",
   "execution_count": 33,
   "id": "f8a1a9b9-5787-4d38-8239-3d38e799534d",
   "metadata": {},
   "outputs": [],
   "source": [
    "predictions = model.predict(X_test)"
   ]
  },
  {
   "cell_type": "markdown",
   "id": "95cd4257-b05f-418c-8e8f-f0f996d69117",
   "metadata": {},
   "source": [
    "### 5. Evaluating the model"
   ]
  },
  {
   "cell_type": "code",
   "execution_count": 34,
   "id": "9f5a4097-2bae-4054-b080-97620a9952ef",
   "metadata": {},
   "outputs": [
    {
     "name": "stdout",
     "output_type": "stream",
     "text": [
      "Accuracy: 0.8757757757757758\n",
      "Precision: 0.42857142857142855\n",
      "Recall: 0.015795868772782502\n",
      "F1-Score: 0.03046875\n",
      "ROC-AUC: 0.7073210870010563\n",
      "Confusion Matrix:\n",
      "[[17459    52]\n",
      " [ 2430    39]]\n"
     ]
    }
   ],
   "source": [
    "model_evaluation(model, predictions, y_test, X_test)"
   ]
  },
  {
   "cell_type": "markdown",
   "id": "6903dfe2-c124-4db9-9e2e-35de2e1f0d8f",
   "metadata": {},
   "source": [
    "### 6. Comparison: model_1 vs model_2"
   ]
  },
  {
   "cell_type": "markdown",
   "id": "4190bddb-e13d-46c6-b560-d9e4468b3670",
   "metadata": {},
   "source": [
    "**model_1 evaluation** (from lesson)\n",
    "- Accuracy: 0.87835\n",
    "- Precision: 0.0\n",
    "- Recall: 0.0\n",
    "- F1-Score: 0.0\n",
    "- ROC-AUC: 0.6173932969589436\n",
    "- Confusion Matrix:\n",
    "[[17567     0]\n",
    " [ 2433     0]]"
   ]
  },
  {
   "cell_type": "markdown",
   "id": "f469b4fb-aa63-40f8-b921-1bb1e5e9b815",
   "metadata": {},
   "source": [
    "**model_2 evaluation** (current)\n",
    "- Accuracy: 0.8757757757757758\n",
    "- Precision: 0.42857142857142855\n",
    "- Recall: 0.015795868772782502\n",
    "- F1-Score: 0.03046875\n",
    "- ROC-AUC: 0.7073210870010563\n",
    "- Confusion Matrix:\n",
    "[[17459    52]\n",
    " [ 2430    39]]"
   ]
  },
  {
   "cell_type": "markdown",
   "id": "db1936bd-580f-418c-877d-1011df12b6a4",
   "metadata": {},
   "source": [
    "#### Insights\n",
    "1. Unlike Model 1, Model 2 is making some positive predictions (39 true positives), so that the model is at least attempting to identify positive cases (defaults).\n",
    "\n",
    "2. Both models have extremely low recall (0.0 for Model 1 and 0.0158 for Model 2), which means they are missing a vast majority of the actual positive cases. So both models can be biased toward predicting the negative class (non-defaults). This could be due to an imbalance in the dataset (many more negatives than positives).\n",
    "\n",
    "3. The ROC-AUC of Model 2 (0.7073) is higher than Model 1 (0.6174), so Model 2 has a better ability to differentiate between positive and negative classes overall.\n",
    "\n",
    "To impove the Model 2 performance we'll try to handle class imbalance. "
   ]
  },
  {
   "cell_type": "markdown",
   "id": "306922f2-1368-422a-b585-358f6d4967d9",
   "metadata": {},
   "source": [
    "### 7. Handling imbalanced data"
   ]
  },
  {
   "cell_type": "markdown",
   "id": "87c4d0bd-ec79-44cc-ad95-e76f24456719",
   "metadata": {},
   "source": [
    "The ways of handling imbalanced data:\n",
    "- take a set of lower group and duplicate it\n",
    "- use advanced techniques to generate data that is similar to the needed group (such as SMOTE)"
   ]
  },
  {
   "cell_type": "code",
   "execution_count": 35,
   "id": "a6e8f704-be6a-440e-acf3-d375a92833b0",
   "metadata": {},
   "outputs": [],
   "source": [
    "smote = SMOTE()\n",
    "X_resampled, y_resampled = smote.fit_resample(X, y)  "
   ]
  },
  {
   "cell_type": "code",
   "execution_count": 36,
   "id": "09b48515-ec6a-42fc-9792-a1f55c23f538",
   "metadata": {},
   "outputs": [
    {
     "data": {
      "text/plain": [
       "loan_default\n",
       "False    87524\n",
       "True     87524\n",
       "Name: count, dtype: int64"
      ]
     },
     "execution_count": 36,
     "metadata": {},
     "output_type": "execute_result"
    }
   ],
   "source": [
    "y_resampled.value_counts()"
   ]
  },
  {
   "cell_type": "markdown",
   "id": "a286bd24-8b0b-4ee1-966f-bd3895fd7dc6",
   "metadata": {},
   "source": [
    "For now the set of default and non-default cohorts are the same."
   ]
  },
  {
   "cell_type": "code",
   "execution_count": 37,
   "id": "6b40b233-7e2e-41c7-8ee5-c14b25311826",
   "metadata": {},
   "outputs": [],
   "source": [
    "model_2 = LogisticRegression(max_iter=300)\n",
    "X_train, X_test, y_train, y_test = train_test_split(X_resampled, y_resampled, test_size=0.2, random_state=74)\n",
    "\n",
    "model_2.fit(X_train, y_train)\n",
    "\n",
    "predictions_2 = model_2.predict(X_test)"
   ]
  },
  {
   "cell_type": "code",
   "execution_count": 38,
   "id": "93f912cf-157d-45d2-b800-86e0725903bb",
   "metadata": {},
   "outputs": [
    {
     "name": "stdout",
     "output_type": "stream",
     "text": [
      "Accuracy: 0.6534990002856327\n",
      "Precision: 0.6516297855395643\n",
      "Recall: 0.6559958767609667\n",
      "F1-Score: 0.6538055420792785\n",
      "ROC-AUC: 0.7217380613534272\n",
      "Confusion Matrix:\n",
      "[[11424  6124]\n",
      " [ 6007 11455]]\n"
     ]
    }
   ],
   "source": [
    "model_evaluation(model_2, predictions_2, y_test, X_test)"
   ]
  },
  {
   "cell_type": "markdown",
   "id": "cb8c7478-1296-4468-bf7c-88ddbb0fc0f6",
   "metadata": {},
   "source": [
    "### 8. model_2 vs model_2 after handling imbalanced data"
   ]
  },
  {
   "cell_type": "markdown",
   "id": "39488da1-1b09-4ce6-853c-9704d01cd3e0",
   "metadata": {},
   "source": [
    "**model_2 evaluation** (before handling imbalanced data)\n",
    "- Accuracy: 0.8757757757757758\n",
    "- Precision: 0.42857142857142855\n",
    "- Recall: 0.015795868772782502\n",
    "- F1-Score: 0.03046875\n",
    "- ROC-AUC: 0.7073210870010563\n",
    "- Confusion Matrix:\n",
    "[[17459    52]\n",
    " [ 2430    39]]"
   ]
  },
  {
   "cell_type": "markdown",
   "id": "386cde98-d4f6-4d45-83dc-c0b8756ebe6e",
   "metadata": {},
   "source": [
    "**model_2 evaluation** (after handling imbalanced data)\n",
    "- Accuracy: 0.6514710082833476\n",
    "- Precision: 0.6505437893531769\n",
    "- Recall: 0.6508418279693048\n",
    "- F1-Score: 0.6506927745333791\n",
    "- ROC-AUC: 0.7185178578006775\n",
    "- Confusion Matrix:\n",
    "[[11443  6105]\n",
    " [ 6097 11365]]"
   ]
  },
  {
   "cell_type": "markdown",
   "id": "a616814b-2410-4079-b525-b5973605c5ca",
   "metadata": {},
   "source": [
    "#### Insights\n",
    "1. The accuracy has significantly dropped (from 87.58% to 65.15%), which is expected after handling imbalanced data. This is a positive change since the model is now predicting both classes instead of defaulting to the negative class.\n",
    "\n",
    "2. Recall: Significantly improved, now identifying 65.08% of actual positive cases.\n",
    "\n",
    "3. F1-Score: The balanced precision and recall lead to a substantially better F1-Score, indicating that the model has improved its ability to correctly predict both classes.\n",
    "\n",
    "4. The model now makes more true positive predictions (11,365) compared to before (39), showing that handling the class imbalance has greatly improved the model's capacity to identify the positive class.\n",
    "\n",
    "5. The ROC-AUC increased slightly from 0.7073 to 0.7185, suggesting a better discriminative ability between positive and negative cases across thresholds."
   ]
  },
  {
   "cell_type": "markdown",
   "id": "adccdba4-88cb-47b0-97ed-f0c4edeb7d16",
   "metadata": {},
   "source": [
    "### 9. Performing cross-validation"
   ]
  },
  {
   "cell_type": "code",
   "execution_count": 39,
   "id": "76da6756-878f-4a92-9065-7301e7a5f87e",
   "metadata": {},
   "outputs": [
    {
     "name": "stdout",
     "output_type": "stream",
     "text": [
      "Cross-Validation Accuracy Scores: [0.87557558 0.87592593 0.87512513 0.87541919 0.87476851]\n",
      "Mean CV Accuracy: 0.8753628647417125\n",
      "Cross-Validation Precision Scores: [0.43209877 0.47959184 0.40384615 0.42857143 0.37142857]\n",
      "Mean CV Precision: 0.42310735120258924\n",
      "Cross-Validation Recall Scores: [0.01414141 0.0189899  0.0169697  0.01818917 0.01575758]\n",
      "Mean CV Recall: 0.01680955063978508\n",
      "Cross-Validation F1 Scores: [0.02738654 0.03653323 0.03257076 0.03489725 0.03023256]\n",
      "Mean CV F1-Score: 0.03232406803209402\n",
      "Cross-Validation ROC-AUC Scores: [0.71272353 0.69455942 0.69768035 0.697021   0.70639182]\n",
      "Mean CV ROC-AUC: 0.7016752254792344\n"
     ]
    }
   ],
   "source": [
    "# Accuracy\n",
    "cv_accuracy = cross_val_score(model_2, X, y, cv=5, scoring='accuracy')\n",
    "print(f'Cross-Validation Accuracy Scores: {cv_accuracy}')\n",
    "print(f'Mean CV Accuracy: {cv_accuracy.mean()}')\n",
    "\n",
    "# Precision\n",
    "cv_precision = cross_val_score(model_2, X, y, cv=5, scoring='precision')\n",
    "print(f'Cross-Validation Precision Scores: {cv_precision}')\n",
    "print(f'Mean CV Precision: {cv_precision.mean()}')\n",
    "\n",
    "# Recall\n",
    "cv_recall = cross_val_score(model_2, X, y, cv=5, scoring='recall')\n",
    "print(f'Cross-Validation Recall Scores: {cv_recall}')\n",
    "print(f'Mean CV Recall: {cv_recall.mean()}')\n",
    "\n",
    "# F1-Score\n",
    "cv_f1 = cross_val_score(model_2, X, y, cv=5, scoring='f1')\n",
    "print(f'Cross-Validation F1 Scores: {cv_f1}')\n",
    "print(f'Mean CV F1-Score: {cv_f1.mean()}')\n",
    "\n",
    "# ROC-AUC\n",
    "cv_roc_auc = cross_val_score(model_2, X, y, cv=5, scoring='roc_auc')\n",
    "print(f'Cross-Validation ROC-AUC Scores: {cv_roc_auc}')\n",
    "print(f'Mean CV ROC-AUC: {cv_roc_auc.mean()}')"
   ]
  },
  {
   "cell_type": "markdown",
   "id": "17c04857-9783-4298-b606-d2c552028329",
   "metadata": {},
   "source": [
    "#### Summary\n",
    "1. The model has a high accuracy but remains biased toward the majority class, leading to very low recall and F1-score.\n",
    "\n",
    "2. Despite a modest ROC-AUC (around 0.7017), the model struggles to identify positive cases, as shown by the consistently low recall across all cross-validation folds.\n",
    "\n",
    "3. Further efforts in tuning of hyperparameters and improving feature engineering are needed to enhance the model's performance, especially in terms of recall."
   ]
  },
  {
   "cell_type": "markdown",
   "id": "8dd33c8e-f785-4c86-b385-7db5a602fcb4",
   "metadata": {},
   "source": [
    "## Part 2. Optimizing model by training by fine-tuning thresholds"
   ]
  },
  {
   "cell_type": "markdown",
   "id": "018c8246-750c-4941-b04b-9d50c7e0c34d",
   "metadata": {},
   "source": [
    "### 1. Using custom loss functions\n",
    "\n",
    "The main purpose of using custom loss functions is to assign different levels of importance to different types of errors made by a model. In many real-world scenarios, some mistakes are more costly than others, and a custom loss function helps the model focus on minimizing the most expensive mistakes.\n",
    "\n",
    "By setting the next costs for FP and FN values we tell the model: \"It’s okay to make some false alarms (false positives), but missing an actual positive case (false negative) is a bigger mistake and should be avoided as much as possible."
   ]
  },
  {
   "cell_type": "code",
   "execution_count": 40,
   "id": "fc99b013-58dc-4186-9e5d-81de400810be",
   "metadata": {},
   "outputs": [
    {
     "name": "stdout",
     "output_type": "stream",
     "text": [
      "Default Loss: 54789.0\n"
     ]
    }
   ],
   "source": [
    "# Predictions\n",
    "y_pred_prob = model_2.predict_proba(X)[:, 1]\n",
    "threshold = 0.5  # Default threshold\n",
    "\n",
    "# Custom thresholding based on custom loss function\n",
    "FP_cost = 1.0  # Cost for False Positive\n",
    "FN_cost = 5.0  # Cost for False Negative\n",
    "\n",
    "def custom_threshold(y_pred_prob, threshold):\n",
    "    return np.where(y_pred_prob > threshold, 1, 0)\n",
    "\n",
    "def evaluate_custom_loss(y_true, y_pred):\n",
    "    tn, fp, fn, tp = confusion_matrix(y_true, y_pred).ravel()\n",
    "    loss = FP_cost * fp + FN_cost * fn\n",
    "    return loss\n",
    "\n",
    "# Calculate loss for the default threshold\n",
    "y_pred_default = custom_threshold(y_pred_prob, threshold)\n",
    "default_loss = evaluate_custom_loss(y, y_pred_default)\n",
    "\n",
    "print(f\"Default Loss: {default_loss}\")"
   ]
  },
  {
   "cell_type": "markdown",
   "id": "a1949c91-210b-497a-9e3d-fd31bbeddaa9",
   "metadata": {},
   "source": [
    "Searching for the threshold with less loss"
   ]
  },
  {
   "cell_type": "code",
   "execution_count": 41,
   "id": "6717c3e2-facf-4ce2-a74e-b63dd34c5459",
   "metadata": {},
   "outputs": [
    {
     "name": "stdout",
     "output_type": "stream",
     "text": [
      "Best Threshold: 0.5950000000000002\n",
      "Minimum Loss: 53052.0\n"
     ]
    }
   ],
   "source": [
    "thresholds = np.arange(0.3, 0.6, 0.005)\n",
    "losses = []\n",
    "\n",
    "for thresh in thresholds:\n",
    "    y_pred = custom_threshold(y_pred_prob, thresh)\n",
    "    loss = evaluate_custom_loss(y, y_pred)\n",
    "    losses.append((thresh, loss))\n",
    "\n",
    "# Find the threshold that gives the minimum loss\n",
    "best_threshold, min_loss = min(losses, key=lambda x: x[1])\n",
    "\n",
    "print(f\"Best Threshold: {best_threshold}\")\n",
    "print(f\"Minimum Loss: {min_loss}\")\n"
   ]
  },
  {
   "cell_type": "markdown",
   "id": "323ac728-58dd-4479-9b0a-aa4020242da2",
   "metadata": {},
   "source": [
    "Using the best threshold based on investigation"
   ]
  },
  {
   "cell_type": "code",
   "execution_count": 42,
   "id": "42774131-6c56-472f-9eeb-fe0423344c6c",
   "metadata": {},
   "outputs": [
    {
     "name": "stdout",
     "output_type": "stream",
     "text": [
      "Default Loss: 53052.0\n"
     ]
    }
   ],
   "source": [
    "threshold = 0.595\n",
    "\n",
    "y_pred_default = custom_threshold(y_pred_prob, threshold)\n",
    "default_loss = evaluate_custom_loss(y, y_pred_default)\n",
    "\n",
    "print(f\"Default Loss: {default_loss}\")"
   ]
  },
  {
   "cell_type": "markdown",
   "id": "dd1b9ac0-9695-4696-b3f1-c7e62b6745fb",
   "metadata": {},
   "source": [
    "## Part 3. Building linear regression model"
   ]
  },
  {
   "cell_type": "markdown",
   "id": "69973fd1-9789-443e-abe9-dafbea1e9259",
   "metadata": {},
   "source": [
    "The business also wants you to do a PoC to see if they can predict `loan_amnt` based on the following features: `emp_length`,`home_ownership`, `annual_inc`."
   ]
  },
  {
   "cell_type": "code",
   "execution_count": 47,
   "id": "c8c6d290-3c7b-4b7a-ab21-b34939a54271",
   "metadata": {},
   "outputs": [],
   "source": [
    "# Standardizing the 'emp_length' column (to have numeric format)\n",
    "df_cleaned.loc[:, 'emp_length_clean'] = df_cleaned['emp_length'].replace({\n",
    "    '10+ years': '10',\n",
    "    '< 1 year': '0'\n",
    "}).str.rstrip(' years').astype('float')\n",
    "\n",
    "# Filtering rows where 'emp_length_clean' is not NaN\n",
    "df_cleaned_2 = df_cleaned[df_cleaned['emp_length_clean'].notna()]"
   ]
  },
  {
   "cell_type": "code",
   "execution_count": 49,
   "id": "5d588947-8309-4768-864d-16a424d0c18c",
   "metadata": {},
   "outputs": [],
   "source": [
    "# Encoding the 'home_ownership' column (to have numeric format)\n",
    "df_cleaned_2.loc[:, 'home_wonership_encoded'] = le.fit_transform(df_cleaned_2['home_ownership'])"
   ]
  },
  {
   "cell_type": "code",
   "execution_count": 50,
   "id": "54e75194-133d-42dc-bfde-8cf23e249dc2",
   "metadata": {},
   "outputs": [],
   "source": [
    "features = ['emp_length_clean', 'annual_inc', 'home_wonership_encoded']\n",
    "X = df_cleaned_2[features]\n",
    "y = df_cleaned_2['loan_amnt']\n",
    "\n",
    "X_train, X_test, y_train, y_test = train_test_split(X, y, test_size=0.3, random_state=42)\n",
    "\n",
    "linear_model = LinearRegression()\n",
    "linear_model.fit(X_train, y_train)\n",
    "\n",
    "y_pred = linear_model.predict(X_test)"
   ]
  },
  {
   "cell_type": "markdown",
   "id": "23e9882d-7b82-48fe-9439-36f4b38db707",
   "metadata": {},
   "source": [
    "Model evaluation"
   ]
  },
  {
   "cell_type": "code",
   "execution_count": 51,
   "id": "907d6e07-ac77-47cf-b8c5-26919b385be5",
   "metadata": {},
   "outputs": [
    {
     "name": "stdout",
     "output_type": "stream",
     "text": [
      "Mean Squared Error: 88149943.64932868\n",
      "R^2 Score: 0.02504042640747528\n"
     ]
    }
   ],
   "source": [
    "mse = mean_squared_error(y_test, y_pred)\n",
    "r2 = r2_score(y_test, y_pred)\n",
    "\n",
    "print(f'Mean Squared Error: {mse}')\n",
    "print(f'R^2 Score: {r2}')"
   ]
  },
  {
   "cell_type": "markdown",
   "id": "6280f84d-13a4-4655-8ce5-f0bdfcebcd03",
   "metadata": {},
   "source": [
    "### Summary\n",
    "MSE of 88,149,943.65: the model has large prediction errors, meaning its predictions for 'loan_amnt' are significantly off from the actual values.\n",
    "\n",
    "R² of 0.025: the model explains only 2.5% of the variance in loan_amnt, indicating that it is not capturing meaningful relationships between the features and the target variable."
   ]
  },
  {
   "cell_type": "markdown",
   "id": "da9034b2-80e5-4978-af41-1c59c87093ce",
   "metadata": {},
   "source": [
    "**Next Steps to Improve the Model:**\n",
    "1. Add More Features: the current features (emp_length, home_ownership, annual_inc) might not be enough to predict loan amounts accurately\n",
    "2. Feature Engineering: need to explore transforming or combining features to create more meaningful inputs for the model\n",
    "3. Examine the Data: need to check for any issues with outliers, missing values, or skewed distributions that might be affecting the model’s performance."
   ]
  }
 ],
 "metadata": {
  "kernelspec": {
   "display_name": "Python 3 (ipykernel)",
   "language": "python",
   "name": "python3"
  },
  "language_info": {
   "codemirror_mode": {
    "name": "ipython",
    "version": 3
   },
   "file_extension": ".py",
   "mimetype": "text/x-python",
   "name": "python",
   "nbconvert_exporter": "python",
   "pygments_lexer": "ipython3",
   "version": "3.10.11"
  }
 },
 "nbformat": 4,
 "nbformat_minor": 5
}
