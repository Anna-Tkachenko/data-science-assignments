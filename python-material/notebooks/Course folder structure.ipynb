{
 "cells": [
  {
   "cell_type": "markdown",
   "id": "e4157c7a",
   "metadata": {},
   "source": [
    "**Part 1: Download & follow the folder structure**\n",
    "\n",
    "To help you stay organized throughout the course, we've provided a zip file containing a structured folder system. Here's what you need to do:\n",
    "\n",
    "1.  **Download the zip file**: see attached\n",
    "2.  **Extract the zip**: This will create a folder structure on your computer.\n",
    "3.  **Follow the folder structure**:\n",
    "    -   **Data**: Save your datasets in the `data/raw` folder.\n",
    "    -   **Notebooks**: Keep all your Jupyter notebooks in the `notebooks` folder.\n",
    "\n",
    "By following this structure, you'll ensure all your files are organized and easy to access.\n",
    "\n",
    "* * * * *\n",
    "\n",
    "**Part 2: Accessing Folders & Launching Jupyter Notebook**\n",
    "\n",
    "**For Mac:**\n",
    "\n",
    "1.  **Open Terminal**:\n",
    "    -   Navigate to `Applications > Utilities > Terminal`.  \n",
    "    \n",
    "2.  **Navigate to your folder**:\n",
    "    `cd path/to/your/folder`  \n",
    "    Replace `path/to/your/folder` with the actual path where you extracted the zip file.  \n",
    "    \n",
    "3.  **Launch Jupyter Notebook**:\n",
    "    `jupyter notebook`\n",
    "\n",
    "**For Windows:**\n",
    "\n",
    "1.  **Open Command Prompt**:\n",
    "    -   Press `Windows + R`, type `cmd`, and hit Enter.  \n",
    "2.  **Navigate to your folder**:\n",
    "\n",
    "    `cd path\\to\\your\\folder`  \n",
    "\n",
    "    Replace `path\\to\\your\\folder` with the actual path.\n",
    "3.  **Launch Jupyter Notebook**:\n",
    "\n",
    "    `jupyter notebook`\n",
    "\n",
    "**Alternative: Use Google Drive & Google Colab**\n",
    "\n",
    "1.  Upload the Folder Structure to Google Drive\n",
    "2.  Click on the Google Drive icon to browse to your folder structure\n",
    "3.  To launch a notebook, click on the three dots (`...`) next to the Jupyer Notebook (.ipynb) file and select `Open With > Google Colaboratory`"
   ]
  },
  {
   "cell_type": "code",
   "execution_count": null,
   "id": "82144648",
   "metadata": {},
   "outputs": [],
   "source": []
  }
 ],
 "metadata": {
  "kernelspec": {
   "display_name": "Python 3 (ipykernel)",
   "language": "python",
   "name": "python3"
  },
  "language_info": {
   "codemirror_mode": {
    "name": "ipython",
    "version": 3
   },
   "file_extension": ".py",
   "mimetype": "text/x-python",
   "name": "python",
   "nbconvert_exporter": "python",
   "pygments_lexer": "ipython3",
   "version": "3.11.7"
  }
 },
 "nbformat": 4,
 "nbformat_minor": 5
}
